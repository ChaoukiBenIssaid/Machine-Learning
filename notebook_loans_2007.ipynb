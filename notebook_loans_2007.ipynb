{
 "cells": [
  {
   "cell_type": "markdown",
   "metadata": {},
   "source": [
    "Lending Club is a marketplace for personal loans that matches borrowers who are seeking a loan with investors looking to lend money and make a return. Each borrower fills out a comprehensive application, providing his past financial history, the reason for the loan, etc. Each borrower's credit score is then evaluated using past historical data and an interest rate is assinged to the borrower. In this task, we'll focus on approved loans data from 2007 to 2011."
   ]
  },
  {
   "cell_type": "code",
   "execution_count": 2,
   "metadata": {},
   "outputs": [
    {
     "name": "stdout",
     "output_type": "stream",
     "text": [
      "        id  member_id  loan_amnt  funded_amnt  funded_amnt_inv        term  \\\n",
      "0  1077501  1296599.0     5000.0       5000.0           4975.0   36 months   \n",
      "1  1077430  1314167.0     2500.0       2500.0           2500.0   60 months   \n",
      "2  1077175  1313524.0     2400.0       2400.0           2400.0   36 months   \n",
      "3  1076863  1277178.0    10000.0      10000.0          10000.0   36 months   \n",
      "4  1075358  1311748.0     3000.0       3000.0           3000.0   60 months   \n",
      "\n",
      "  int_rate  installment grade sub_grade    ...    last_pymnt_amnt  \\\n",
      "0   10.65%       162.87     B        B2    ...             171.62   \n",
      "1   15.27%        59.83     C        C4    ...             119.66   \n",
      "2   15.96%        84.33     C        C5    ...             649.91   \n",
      "3   13.49%       339.31     C        C1    ...             357.48   \n",
      "4   12.69%        67.79     B        B5    ...              67.79   \n",
      "\n",
      "  last_credit_pull_d collections_12_mths_ex_med  policy_code application_type  \\\n",
      "0           Jun-2016                        0.0          1.0       INDIVIDUAL   \n",
      "1           Sep-2013                        0.0          1.0       INDIVIDUAL   \n",
      "2           Jun-2016                        0.0          1.0       INDIVIDUAL   \n",
      "3           Apr-2016                        0.0          1.0       INDIVIDUAL   \n",
      "4           Jun-2016                        0.0          1.0       INDIVIDUAL   \n",
      "\n",
      "  acc_now_delinq chargeoff_within_12_mths delinq_amnt pub_rec_bankruptcies  \\\n",
      "0            0.0                      0.0         0.0                  0.0   \n",
      "1            0.0                      0.0         0.0                  0.0   \n",
      "2            0.0                      0.0         0.0                  0.0   \n",
      "3            0.0                      0.0         0.0                  0.0   \n",
      "4            0.0                      0.0         0.0                  0.0   \n",
      "\n",
      "  tax_liens  \n",
      "0       0.0  \n",
      "1       0.0  \n",
      "2       0.0  \n",
      "3       0.0  \n",
      "4       0.0  \n",
      "\n",
      "[5 rows x 52 columns]\n"
     ]
    }
   ],
   "source": [
    "import pandas as pd\n",
    "loans_2007 = pd.read_csv('loans_2007.csv')\n",
    "print(loans_2007.head())"
   ]
  },
  {
   "cell_type": "markdown",
   "metadata": {},
   "source": [
    "The Dataframe contains many columns and can be cumbersome to try to explore all at once. After careful study of each column, the following columns need to be dropped to avoid data leakage leading to overfitting:\n",
    "-  id: randomly generated field by Lending Club for unique identification purposes only.\n",
    "-  member_id: also a randomly generated field by Lending Club for unique identification purposes only.\n",
    "-  funded_amnt: leaks data from the future (after the loan is already started to be funded).\n",
    "-  funded_amnt_inv: also leaks data from the future (after the loan is already started to be funded).\n",
    "-  grade: contains redundant information as the interest rate column (int_rate).\n",
    "-  sub_grade: also contains redundant information as the interest rate column (int_rate).\n",
    "-  emp_title: requires other data and a lot of processing to potentially be useful.\n",
    "-  issue_d: leaks data from the future (after the loan is already completed funded).\n",
    "-  zip_code: redundant with the addr_state column since only the first 3 digits of the 5 digit zip code are visible (which only can be used to identify the state the borrower lives in).\n",
    "-  out_prncp: leaks data from the future, (after the loan already started to be paid off).\n",
    "-  out_prncp_inv: also leaks data from the future, (after the loan already started to be paid off).\n",
    "-  total_pymnt: also leaks data from the future, (after the loan already started to be paid off).\n",
    "-  total_pymnt_inv: also leaks data from the future, (after the loan already started to be paid off).\n",
    "-  total_rec_prncp: also leaks data from the future, (after the loan already started to be paid off).\n",
    "-  total_rec_int: leaks data from the future, (after the loan already started to be paid off),\n",
    "-  total_rec_late_fee: also leaks data from the future, (after the loan already started to be paid off),\n",
    "-  recoveries: also leaks data from the future, (after the loan already started to be paid off),\n",
    "-  collection_recovery_fee: also leaks data from the future, (after the loan already started to be paid off),\n",
    "-  last_pymnt_d: also leaks data from the future, (after the loan already started to be paid off),\n",
    "-  last_pymnt_amnt: also leaks data from the future, (after the loan already started to be paid off)."
   ]
  },
  {
   "cell_type": "code",
   "execution_count": 7,
   "metadata": {},
   "outputs": [],
   "source": [
    "# dropping the columns from the dataset\n",
    "loans_2007.drop(columns = ['id', 'member_id', 'funded_amnt', 'funded_amnt_inv', 'grade', 'sub_grade','emp_title', 'issue_d',  \n",
    "                          'zip_code', 'out_prncp', 'out_prncp_inv', 'total_pymnt', 'total_pymnt_inv', 'total_rec_prncp', \n",
    "                          'total_rec_int', 'total_rec_late_fee', 'recoveries', 'collection_recovery_fee', 'last_pymnt_d', \n",
    "                           'last_pymnt_amnt'], inplace = True)"
   ]
  },
  {
   "cell_type": "code",
   "execution_count": 8,
   "metadata": {},
   "outputs": [
    {
     "name": "stdout",
     "output_type": "stream",
     "text": [
      "   loan_amnt        term int_rate  installment emp_length home_ownership  \\\n",
      "0     5000.0   36 months   10.65%       162.87  10+ years           RENT   \n",
      "1     2500.0   60 months   15.27%        59.83   < 1 year           RENT   \n",
      "2     2400.0   36 months   15.96%        84.33  10+ years           RENT   \n",
      "3    10000.0   36 months   13.49%       339.31  10+ years           RENT   \n",
      "4     3000.0   60 months   12.69%        67.79     1 year           RENT   \n",
      "\n",
      "   annual_inc verification_status  loan_status pymnt_plan    ...      \\\n",
      "0     24000.0            Verified   Fully Paid          n    ...       \n",
      "1     30000.0     Source Verified  Charged Off          n    ...       \n",
      "2     12252.0        Not Verified   Fully Paid          n    ...       \n",
      "3     49200.0     Source Verified   Fully Paid          n    ...       \n",
      "4     80000.0     Source Verified      Current          n    ...       \n",
      "\n",
      "  initial_list_status last_credit_pull_d collections_12_mths_ex_med  \\\n",
      "0                   f           Jun-2016                        0.0   \n",
      "1                   f           Sep-2013                        0.0   \n",
      "2                   f           Jun-2016                        0.0   \n",
      "3                   f           Apr-2016                        0.0   \n",
      "4                   f           Jun-2016                        0.0   \n",
      "\n",
      "   policy_code  application_type acc_now_delinq  chargeoff_within_12_mths  \\\n",
      "0          1.0        INDIVIDUAL            0.0                       0.0   \n",
      "1          1.0        INDIVIDUAL            0.0                       0.0   \n",
      "2          1.0        INDIVIDUAL            0.0                       0.0   \n",
      "3          1.0        INDIVIDUAL            0.0                       0.0   \n",
      "4          1.0        INDIVIDUAL            0.0                       0.0   \n",
      "\n",
      "   delinq_amnt  pub_rec_bankruptcies  tax_liens  \n",
      "0          0.0                   0.0        0.0  \n",
      "1          0.0                   0.0        0.0  \n",
      "2          0.0                   0.0        0.0  \n",
      "3          0.0                   0.0        0.0  \n",
      "4          0.0                   0.0        0.0  \n",
      "\n",
      "[5 rows x 32 columns]\n"
     ]
    }
   ],
   "source": [
    "print(loans_2007.head())"
   ]
  },
  {
   "cell_type": "markdown",
   "metadata": {},
   "source": [
    "The number of columns was reduced from 52 to 32 columns. For this task, our target column will be the **loan_status** column, since it's the only column that directly describes if a loan was paid off on time, had delayed payments, or was defaulted on the borrower."
   ]
  },
  {
   "cell_type": "code",
   "execution_count": 9,
   "metadata": {},
   "outputs": [
    {
     "name": "stdout",
     "output_type": "stream",
     "text": [
      "Fully Paid                                             33136\n",
      "Charged Off                                             5634\n",
      "Does not meet the credit policy. Status:Fully Paid      1988\n",
      "Current                                                  961\n",
      "Does not meet the credit policy. Status:Charged Off      761\n",
      "Late (31-120 days)                                        24\n",
      "In Grace Period                                           20\n",
      "Late (16-30 days)                                          8\n",
      "Default                                                    3\n",
      "Name: loan_status, dtype: int64\n"
     ]
    }
   ],
   "source": [
    "print(loans_2007['loan_status'].value_counts())"
   ]
  },
  {
   "cell_type": "markdown",
   "metadata": {},
   "source": [
    "From the investor's perspective, we're interested in trying to predict which loans will be paid off on time and which ones won't be. Only the **Fully Paid** and **Charged Off** values describe the final outcome of the loan. The other values describe loans that are still on going and where the jury is still out on if the borrower will pay back the loan on time or not."
   ]
  },
  {
   "cell_type": "markdown",
   "metadata": {},
   "source": [
    "We will treat the problem as a binary classification one. Let's remove all the loans that don't contain either **Fully Paid** and **Charged Off** as the loan's status and then transform the **Fully Paid** values to 1 for the positive case and the **Charged Off** values to 0 for the negative case."
   ]
  },
  {
   "cell_type": "code",
   "execution_count": 10,
   "metadata": {},
   "outputs": [],
   "source": [
    "loans_2007 = loans_2007[(loans_2007['loan_status'] == 'Fully Paid') | (loans_2007['loan_status'] == 'Charged Off')]\n",
    "\n",
    "mapping_dict = {\n",
    "    \"loan_status\": {\n",
    "        \"Fully Paid\": 1,\n",
    "        \"Charged Off\": 0\n",
    "    }\n",
    "}\n",
    "loans_2007 = loans_2007.replace(mapping_dict)"
   ]
  },
  {
   "cell_type": "markdown",
   "metadata": {},
   "source": [
    "Now, let's look for any columns that contain only one unique value and remove them. These columns won't be useful for the model since they don't add any information to each loan application."
   ]
  },
  {
   "cell_type": "code",
   "execution_count": 12,
   "metadata": {},
   "outputs": [
    {
     "name": "stdout",
     "output_type": "stream",
     "text": [
      "[]\n"
     ]
    }
   ],
   "source": [
    "drop_columns = []\n",
    "for c in loans_2007.columns:\n",
    "    non_null = loans_2007[c].dropna()\n",
    "    unique_non_null = non_null.unique()\n",
    "    num_true_unique = len(unique_non_null)\n",
    "    if num_true_unique == 1:\n",
    "        drop_columns.append(c)\n",
    "        \n",
    "loans_2007.drop(columns=drop_columns, inplace = True)\n",
    "# print the dropped columns names\n",
    "print(drop_columns)"
   ]
  },
  {
   "cell_type": "markdown",
   "metadata": {},
   "source": [
    "Therefore, we were able to remove 9 more columns since they only contained 1 unique value."
   ]
  },
  {
   "cell_type": "code",
   "execution_count": null,
   "metadata": {},
   "outputs": [],
   "source": []
  }
 ],
 "metadata": {
  "anaconda-cloud": {},
  "kernelspec": {
   "display_name": "Python 3",
   "language": "python",
   "name": "python3"
  },
  "language_info": {
   "codemirror_mode": {
    "name": "ipython",
    "version": 3
   },
   "file_extension": ".py",
   "mimetype": "text/x-python",
   "name": "python",
   "nbconvert_exporter": "python",
   "pygments_lexer": "ipython3",
   "version": "3.6.7"
  }
 },
 "nbformat": 4,
 "nbformat_minor": 1
}
